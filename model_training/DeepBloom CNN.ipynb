{
 "cells": [
  {
   "cell_type": "markdown",
   "metadata": {},
   "source": [
    "# Learning a Binary Classifier"
   ]
  },
  {
   "cell_type": "markdown",
   "metadata": {},
   "source": [
    "## Importing Data"
   ]
  },
  {
   "cell_type": "code",
   "execution_count": null,
   "metadata": {
    "ExecuteTime": {
     "end_time": "2018-11-11T07:23:35.810505Z",
     "start_time": "2018-11-11T07:23:35.333764Z"
    }
   },
   "outputs": [],
   "source": [
    "import pandas as pd"
   ]
  },
  {
   "cell_type": "code",
   "execution_count": null,
   "metadata": {
    "ExecuteTime": {
     "end_time": "2018-11-11T07:23:36.209848Z",
     "start_time": "2018-11-11T07:23:35.813756Z"
    }
   },
   "outputs": [],
   "source": [
    "df = pd.read_csv(\"data.csv\")"
   ]
  },
  {
   "cell_type": "code",
   "execution_count": null,
   "metadata": {
    "ExecuteTime": {
     "end_time": "2018-11-11T07:23:36.243838Z",
     "start_time": "2018-11-11T07:23:36.211375Z"
    },
    "scrolled": true
   },
   "outputs": [],
   "source": [
    "df"
   ]
  },
  {
   "cell_type": "markdown",
   "metadata": {},
   "source": [
    "## Deep Learning Deep Shit"
   ]
  },
  {
   "cell_type": "code",
   "execution_count": null,
   "metadata": {
    "ExecuteTime": {
     "end_time": "2018-11-11T07:23:38.025118Z",
     "start_time": "2018-11-11T07:23:36.247033Z"
    }
   },
   "outputs": [],
   "source": [
    "from collections import Counter\n",
    "\n",
    "import keras\n",
    "import keras.backend as k\n",
    "import numpy as np\n",
    "import tensorflow as tf\n",
    "from keras.layers import (GRU, LSTM, BatchNormalization, Bidirectional, Dense,\n",
    "                          Dropout, Conv2D, MaxPooling2D, Flatten)\n",
    "from keras.models import Sequential\n",
    "from keras.preprocessing.sequence import pad_sequences\n",
    "from keras.preprocessing.text import Tokenizer\n",
    "from keras.utils import multi_gpu_model, to_categorical\n",
    "from sklearn.model_selection import train_test_split\n",
    "from tqdm import tqdm_notebook"
   ]
  },
  {
   "cell_type": "code",
   "execution_count": null,
   "metadata": {
    "ExecuteTime": {
     "end_time": "2018-11-11T07:23:38.030155Z",
     "start_time": "2018-11-11T07:23:38.026554Z"
    }
   },
   "outputs": [],
   "source": [
    "%env CUDA_VISIBLE_DEVICES=1"
   ]
  },
  {
   "cell_type": "code",
   "execution_count": null,
   "metadata": {
    "ExecuteTime": {
     "end_time": "2018-11-11T07:23:39.065788Z",
     "start_time": "2018-11-11T07:23:38.033177Z"
    }
   },
   "outputs": [],
   "source": [
    "# TensorFlow wizardry\n",
    "config = tf.ConfigProto()\n",
    " \n",
    "# Don't pre-allocate memory; allocate as-needed\n",
    "config.gpu_options.allow_growth = True\n",
    " \n",
    "# Create a session with the above options specified.\n",
    "k.tensorflow_backend.set_session(tf.Session(config=config))"
   ]
  },
  {
   "cell_type": "code",
   "execution_count": null,
   "metadata": {
    "ExecuteTime": {
     "end_time": "2018-11-11T07:23:39.072453Z",
     "start_time": "2018-11-11T07:23:39.069223Z"
    },
    "scrolled": true
   },
   "outputs": [],
   "source": [
    "from tensorflow.python.client import device_lib\n",
    "print(device_lib.list_local_devices())"
   ]
  },
  {
   "cell_type": "code",
   "execution_count": null,
   "metadata": {
    "ExecuteTime": {
     "end_time": "2018-11-11T07:23:39.091230Z",
     "start_time": "2018-11-11T07:23:39.074531Z"
    }
   },
   "outputs": [],
   "source": [
    "BATCH_SIZE = 1024  # batch size for the network\n",
    "EPOCH_NUMBER = 1  # number of epochs to train\n",
    "THRESHOLD = 5  # symbols appearing fewer times will be replaced by a placeholder"
   ]
  },
  {
   "cell_type": "markdown",
   "metadata": {},
   "source": [
    "## Preparing Data"
   ]
  },
  {
   "cell_type": "code",
   "execution_count": null,
   "metadata": {
    "ExecuteTime": {
     "end_time": "2018-11-11T07:23:40.823882Z",
     "start_time": "2018-11-11T07:23:39.092528Z"
    }
   },
   "outputs": [],
   "source": [
    "unique_symbols = Counter()\n",
    "\n",
    "for _, message in df['url'].iteritems():\n",
    "    unique_symbols.update(message)\n",
    "    \n",
    "print(\"Unique symbols:\", len(unique_symbols))\n",
    "\n",
    "\n",
    "# Find symbols that appear fewer times than the threshold:\n",
    "\n",
    "uncommon_symbols = list()\n",
    "\n",
    "for symbol, count in unique_symbols.items():\n",
    "    if count < THRESHOLD:\n",
    "        uncommon_symbols.append(symbol)\n",
    "\n",
    "print(\"Uncommon symbols:\", len(uncommon_symbols))"
   ]
  },
  {
   "cell_type": "code",
   "execution_count": null,
   "metadata": {
    "ExecuteTime": {
     "end_time": "2018-11-11T07:23:41.526527Z",
     "start_time": "2018-11-11T07:23:40.825272Z"
    }
   },
   "outputs": [],
   "source": [
    "# Replace them with a placeholder:\n",
    "DUMMY = uncommon_symbols[0]\n",
    "tr_table = str.maketrans(\"\".join(uncommon_symbols), DUMMY * len(uncommon_symbols))\n",
    "\n",
    "df['url'] = df['url'].apply(lambda x: x.translate(tr_table))\n",
    "\n",
    "# We will need the number of unique symbols further down when we will decide on the dimensionality of inputs.\n",
    "num_unique_symbols = len(unique_symbols) - len(uncommon_symbols) + 1 "
   ]
  },
  {
   "cell_type": "code",
   "execution_count": null,
   "metadata": {
    "ExecuteTime": {
     "end_time": "2018-11-11T07:23:46.189305Z",
     "start_time": "2018-11-11T07:23:41.528250Z"
    }
   },
   "outputs": [],
   "source": [
    "tokenizer = Tokenizer(char_level=True)\n",
    "tokenizer.fit_on_texts(df['url'])"
   ]
  },
  {
   "cell_type": "code",
   "execution_count": null,
   "metadata": {
    "ExecuteTime": {
     "end_time": "2018-11-11T07:23:50.715614Z",
     "start_time": "2018-11-11T07:23:46.190798Z"
    }
   },
   "outputs": [],
   "source": [
    "mat = tokenizer.texts_to_sequences(df['url'])\n",
    "#mat = pad_sequences(mat)"
   ]
  },
  {
   "cell_type": "code",
   "execution_count": null,
   "metadata": {
    "ExecuteTime": {
     "end_time": "2018-11-11T07:23:50.887653Z",
     "start_time": "2018-11-11T07:23:50.717150Z"
    }
   },
   "outputs": [],
   "source": [
    "import seaborn as sns"
   ]
  },
  {
   "cell_type": "code",
   "execution_count": null,
   "metadata": {
    "ExecuteTime": {
     "end_time": "2018-11-11T07:23:50.930927Z",
     "start_time": "2018-11-11T07:23:50.889056Z"
    }
   },
   "outputs": [],
   "source": [
    "arr = np.array([len(i) for i in mat])"
   ]
  },
  {
   "cell_type": "code",
   "execution_count": null,
   "metadata": {
    "ExecuteTime": {
     "end_time": "2018-11-11T07:23:52.320368Z",
     "start_time": "2018-11-11T07:23:50.933347Z"
    }
   },
   "outputs": [],
   "source": [
    "sns.distplot(arr)"
   ]
  },
  {
   "cell_type": "code",
   "execution_count": null,
   "metadata": {
    "ExecuteTime": {
     "end_time": "2018-11-11T07:23:52.324482Z",
     "start_time": "2018-11-11T07:23:52.321658Z"
    }
   },
   "outputs": [],
   "source": [
    "len(arr)"
   ]
  },
  {
   "cell_type": "code",
   "execution_count": null,
   "metadata": {
    "ExecuteTime": {
     "end_time": "2018-11-11T07:23:52.337276Z",
     "start_time": "2018-11-11T07:23:52.325843Z"
    }
   },
   "outputs": [],
   "source": [
    "np.argwhere(arr<300)[:,0].shape"
   ]
  },
  {
   "cell_type": "code",
   "execution_count": null,
   "metadata": {
    "ExecuteTime": {
     "end_time": "2018-11-11T07:23:52.805019Z",
     "start_time": "2018-11-11T07:23:52.338950Z"
    }
   },
   "outputs": [],
   "source": [
    "mat = np.array(mat)"
   ]
  },
  {
   "cell_type": "code",
   "execution_count": null,
   "metadata": {
    "ExecuteTime": {
     "end_time": "2018-11-11T07:23:52.824736Z",
     "start_time": "2018-11-11T07:23:52.806481Z"
    }
   },
   "outputs": [],
   "source": [
    "mat = mat[np.argwhere(arr<300)[:,0]]"
   ]
  },
  {
   "cell_type": "code",
   "execution_count": null,
   "metadata": {
    "ExecuteTime": {
     "end_time": "2018-11-11T07:23:52.859129Z",
     "start_time": "2018-11-11T07:23:52.828112Z"
    }
   },
   "outputs": [],
   "source": [
    "max_length = max([len(i) for i in mat])"
   ]
  },
  {
   "cell_type": "code",
   "execution_count": null,
   "metadata": {
    "ExecuteTime": {
     "end_time": "2018-11-11T07:23:52.870059Z",
     "start_time": "2018-11-11T07:23:52.860549Z"
    }
   },
   "outputs": [],
   "source": [
    "mat.shape"
   ]
  },
  {
   "cell_type": "code",
   "execution_count": null,
   "metadata": {
    "ExecuteTime": {
     "end_time": "2018-11-11T07:23:52.880715Z",
     "start_time": "2018-11-11T07:23:52.871184Z"
    }
   },
   "outputs": [],
   "source": [
    "max_length"
   ]
  },
  {
   "cell_type": "code",
   "execution_count": null,
   "metadata": {
    "ExecuteTime": {
     "end_time": "2018-11-11T07:24:01.337280Z",
     "start_time": "2018-11-11T07:23:52.890576Z"
    }
   },
   "outputs": [],
   "source": [
    "images = []\n",
    "for m in tqdm_notebook(mat[:100000]):\n",
    "    img = np.zeros((num_unique_symbols, max_length,1))\n",
    "    for idx, e in enumerate(m):\n",
    "        img[e, idx] = 1\n",
    "    images.append(img)"
   ]
  },
  {
   "cell_type": "code",
   "execution_count": null,
   "metadata": {
    "ExecuteTime": {
     "end_time": "2018-11-11T07:26:52.962777Z",
     "start_time": "2018-11-11T07:24:30.230957Z"
    }
   },
   "outputs": [],
   "source": [
    "images = np.array(images)"
   ]
  },
  {
   "cell_type": "code",
   "execution_count": null,
   "metadata": {
    "ExecuteTime": {
     "end_time": "2018-11-11T07:28:05.717694Z",
     "start_time": "2018-11-11T07:28:05.680444Z"
    }
   },
   "outputs": [],
   "source": [
    "y = df['label']\n",
    "y = (y==\"bad\")\n",
    "y = y[:100000]"
   ]
  },
  {
   "cell_type": "code",
   "execution_count": null,
   "metadata": {
    "ExecuteTime": {
     "end_time": "2018-11-11T07:28:06.125928Z",
     "start_time": "2018-11-11T07:28:06.119476Z"
    }
   },
   "outputs": [],
   "source": [
    "len(y)"
   ]
  },
  {
   "cell_type": "code",
   "execution_count": null,
   "metadata": {
    "ExecuteTime": {
     "end_time": "2018-11-11T07:28:06.546509Z",
     "start_time": "2018-11-11T07:28:06.531611Z"
    }
   },
   "outputs": [],
   "source": [
    "y.sum()"
   ]
  },
  {
   "cell_type": "code",
   "execution_count": null,
   "metadata": {
    "ExecuteTime": {
     "end_time": "2018-11-11T07:28:07.955234Z",
     "start_time": "2018-11-11T07:28:07.880990Z"
    }
   },
   "outputs": [],
   "source": [
    "x_train, x_test, y_train, y_test = train_test_split(images, y, stratify=y.values, test_size=0.10)"
   ]
  },
  {
   "cell_type": "markdown",
   "metadata": {},
   "source": [
    "## Defining Model"
   ]
  },
  {
   "cell_type": "code",
   "execution_count": null,
   "metadata": {
    "ExecuteTime": {
     "end_time": "2018-11-11T07:28:26.126201Z",
     "start_time": "2018-11-11T07:28:26.122428Z"
    }
   },
   "outputs": [],
   "source": [
    "sequence_length = images.shape[1]"
   ]
  },
  {
   "cell_type": "code",
   "execution_count": null,
   "metadata": {
    "ExecuteTime": {
     "end_time": "2018-11-11T07:36:21.982140Z",
     "start_time": "2018-11-11T07:36:21.884364Z"
    }
   },
   "outputs": [],
   "source": [
    "model = Sequential()\n",
    "model.add(Conv2D(32, kernel_size=(5, 5), strides=(1, 1),\n",
    "                 activation='relu',\n",
    "                 input_shape=images.shape[1:]))\n",
    "model.add(MaxPooling2D(pool_size=(2, 2), strides=(2, 2)))\n",
    "model.add(Flatten())\n",
    "model.add(Dense(1, activation='sigmoid'))"
   ]
  },
  {
   "cell_type": "code",
   "execution_count": null,
   "metadata": {
    "ExecuteTime": {
     "end_time": "2018-11-11T07:36:25.890079Z",
     "start_time": "2018-11-11T07:36:25.838176Z"
    }
   },
   "outputs": [],
   "source": [
    "model.compile(optimizer=\"adam\", loss=\"binary_crossentropy\", metrics=['accuracy'])"
   ]
  },
  {
   "cell_type": "code",
   "execution_count": null,
   "metadata": {
    "ExecuteTime": {
     "end_time": "2018-11-11T07:43:39.076044Z",
     "start_time": "2018-11-11T07:38:52.925342Z"
    }
   },
   "outputs": [],
   "source": [
    "model.fit(images[:90000], y[:90000], epochs=5, batch_size=128)"
   ]
  },
  {
   "cell_type": "code",
   "execution_count": null,
   "metadata": {},
   "outputs": [],
   "source": [
    "moe"
   ]
  },
  {
   "cell_type": "code",
   "execution_count": null,
   "metadata": {
    "ExecuteTime": {
     "end_time": "2018-11-11T07:21:34.290885Z",
     "start_time": "2018-11-11T07:21:34.284286Z"
    }
   },
   "outputs": [],
   "source": [
    "y_train.sum()"
   ]
  },
  {
   "cell_type": "code",
   "execution_count": null,
   "metadata": {
    "ExecuteTime": {
     "end_time": "2018-11-11T07:44:46.183630Z",
     "start_time": "2018-11-11T07:44:41.203329Z"
    }
   },
   "outputs": [],
   "source": [
    "model.evaluate(images[-10000:], y[-10000:])"
   ]
  },
  {
   "cell_type": "code",
   "execution_count": null,
   "metadata": {
    "ExecuteTime": {
     "end_time": "2018-11-11T07:20:53.228568Z",
     "start_time": "2018-11-11T07:20:53.220610Z"
    }
   },
   "outputs": [],
   "source": [
    "y_test.shape, y_test.sum()"
   ]
  },
  {
   "cell_type": "code",
   "execution_count": null,
   "metadata": {
    "ExecuteTime": {
     "end_time": "2018-11-11T04:45:46.114314Z",
     "start_time": "2018-11-11T04:45:44.951305Z"
    }
   },
   "outputs": [],
   "source": [
    "parallel_model = multi_gpu_model(model, gpus=2)\n",
    "parallel_model.compile(optimizer=\"adam\", loss=\"binary_crossentropy\", metrics=['accuracy'])"
   ]
  },
  {
   "cell_type": "code",
   "execution_count": null,
   "metadata": {
    "ExecuteTime": {
     "end_time": "2018-11-11T04:55:35.481755Z",
     "start_time": "2018-11-11T04:55:35.463471Z"
    }
   },
   "outputs": [],
   "source": [
    "dg = DataGenerator(x_train, y_train, batch_size=128)"
   ]
  },
  {
   "cell_type": "code",
   "execution_count": null,
   "metadata": {
    "ExecuteTime": {
     "end_time": "2018-11-11T05:03:09.665052Z",
     "start_time": "2018-11-11T05:02:02.872233Z"
    }
   },
   "outputs": [],
   "source": [
    "model.fit_generator(dg, epochs=10, use_multiprocessing=True, workers=12)"
   ]
  },
  {
   "cell_type": "code",
   "execution_count": null,
   "metadata": {
    "ExecuteTime": {
     "end_time": "2018-11-11T04:47:45.085584Z",
     "start_time": "2018-11-11T04:45:46.841244Z"
    }
   },
   "outputs": [],
   "source": [
    "parallel_model.fit_generator(dg, epochs=10, use_multiprocessing=True, workers=6)"
   ]
  },
  {
   "cell_type": "code",
   "execution_count": null,
   "metadata": {
    "ExecuteTime": {
     "end_time": "2018-11-11T04:22:04.422681Z",
     "start_time": "2018-11-11T04:22:04.413742Z"
    }
   },
   "outputs": [],
   "source": [
    "x_train.shape"
   ]
  },
  {
   "cell_type": "code",
   "execution_count": null,
   "metadata": {
    "ExecuteTime": {
     "start_time": "2018-11-11T05:03:17.209Z"
    }
   },
   "outputs": [],
   "source": [
    "BATCH_SIZE = 10240\n",
    "for epoch in range(EPOCH_NUMBER):\n",
    "    print(\"Epoch\", epoch)\n",
    "    for i in range(0, len(x_train), BATCH_SIZE):\n",
    "        batch = x_train[i:i+BATCH_SIZE]\n",
    "        batch = to_categorical(batch, num_classes=num_unique_symbols)\n",
    "        y_batch = y_train.iloc[i:i+BATCH_SIZE]\n",
    "        model.fit(batch, y_batch, batch_size=256)"
   ]
  },
  {
   "cell_type": "code",
   "execution_count": null,
   "metadata": {
    "ExecuteTime": {
     "end_time": "2018-11-11T04:01:36.230782Z",
     "start_time": "2018-11-11T04:01:36.211864Z"
    }
   },
   "outputs": [],
   "source": [
    "model.fit(x_train, y_train, validation_split=0.1, batch_size=32)"
   ]
  }
 ],
 "metadata": {
  "kernelspec": {
   "display_name": "Python 3",
   "language": "python",
   "name": "python3"
  },
  "language_info": {
   "codemirror_mode": {
    "name": "ipython",
    "version": 3
   },
   "file_extension": ".py",
   "mimetype": "text/x-python",
   "name": "python",
   "nbconvert_exporter": "python",
   "pygments_lexer": "ipython3",
   "version": "3.5.2"
  },
  "toc": {
   "base_numbering": 1,
   "nav_menu": {},
   "number_sections": true,
   "sideBar": true,
   "skip_h1_title": false,
   "title_cell": "Table of Contents",
   "title_sidebar": "Contents",
   "toc_cell": false,
   "toc_position": {},
   "toc_section_display": true,
   "toc_window_display": false
  }
 },
 "nbformat": 4,
 "nbformat_minor": 2
}

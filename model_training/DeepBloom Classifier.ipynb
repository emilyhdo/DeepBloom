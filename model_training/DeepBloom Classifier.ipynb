{
 "cells": [
  {
   "cell_type": "markdown",
   "metadata": {},
   "source": [
    "# Learning a Binary Classifier"
   ]
  },
  {
   "cell_type": "markdown",
   "metadata": {},
   "source": [
    "## Importing Data"
   ]
  },
  {
   "cell_type": "code",
   "execution_count": 1,
   "metadata": {
    "ExecuteTime": {
     "end_time": "2018-11-11T07:45:32.272736Z",
     "start_time": "2018-11-11T07:45:30.887312Z"
    }
   },
   "outputs": [],
   "source": [
    "import pandas as pd"
   ]
  },
  {
   "cell_type": "code",
   "execution_count": 2,
   "metadata": {
    "ExecuteTime": {
     "end_time": "2018-11-11T07:45:32.666426Z",
     "start_time": "2018-11-11T07:45:32.275860Z"
    }
   },
   "outputs": [],
   "source": [
    "df = pd.read_csv(\"data.csv\")"
   ]
  },
  {
   "cell_type": "code",
   "execution_count": 3,
   "metadata": {
    "ExecuteTime": {
     "end_time": "2018-11-11T07:45:32.696831Z",
     "start_time": "2018-11-11T07:45:32.667958Z"
    },
    "scrolled": true
   },
   "outputs": [
    {
     "data": {
      "text/html": [
       "<div>\n",
       "<style scoped>\n",
       "    .dataframe tbody tr th:only-of-type {\n",
       "        vertical-align: middle;\n",
       "    }\n",
       "\n",
       "    .dataframe tbody tr th {\n",
       "        vertical-align: top;\n",
       "    }\n",
       "\n",
       "    .dataframe thead th {\n",
       "        text-align: right;\n",
       "    }\n",
       "</style>\n",
       "<table border=\"1\" class=\"dataframe\">\n",
       "  <thead>\n",
       "    <tr style=\"text-align: right;\">\n",
       "      <th></th>\n",
       "      <th>url</th>\n",
       "      <th>label</th>\n",
       "    </tr>\n",
       "  </thead>\n",
       "  <tbody>\n",
       "    <tr>\n",
       "      <th>0</th>\n",
       "      <td>diaryofagameaddict.com</td>\n",
       "      <td>bad</td>\n",
       "    </tr>\n",
       "    <tr>\n",
       "      <th>1</th>\n",
       "      <td>espdesign.com.au</td>\n",
       "      <td>bad</td>\n",
       "    </tr>\n",
       "    <tr>\n",
       "      <th>2</th>\n",
       "      <td>iamagameaddict.com</td>\n",
       "      <td>bad</td>\n",
       "    </tr>\n",
       "    <tr>\n",
       "      <th>3</th>\n",
       "      <td>kalantzis.net</td>\n",
       "      <td>bad</td>\n",
       "    </tr>\n",
       "    <tr>\n",
       "      <th>4</th>\n",
       "      <td>slightlyoffcenter.net</td>\n",
       "      <td>bad</td>\n",
       "    </tr>\n",
       "    <tr>\n",
       "      <th>5</th>\n",
       "      <td>toddscarwash.com</td>\n",
       "      <td>bad</td>\n",
       "    </tr>\n",
       "    <tr>\n",
       "      <th>6</th>\n",
       "      <td>tubemoviez.com</td>\n",
       "      <td>bad</td>\n",
       "    </tr>\n",
       "    <tr>\n",
       "      <th>7</th>\n",
       "      <td>ipl.hk</td>\n",
       "      <td>bad</td>\n",
       "    </tr>\n",
       "    <tr>\n",
       "      <th>8</th>\n",
       "      <td>crackspider.us/toolbar/install.php?pack=exe</td>\n",
       "      <td>bad</td>\n",
       "    </tr>\n",
       "    <tr>\n",
       "      <th>9</th>\n",
       "      <td>pos-kupang.com/</td>\n",
       "      <td>bad</td>\n",
       "    </tr>\n",
       "    <tr>\n",
       "      <th>10</th>\n",
       "      <td>rupor.info</td>\n",
       "      <td>bad</td>\n",
       "    </tr>\n",
       "    <tr>\n",
       "      <th>11</th>\n",
       "      <td>svision-online.de/mgfi/administrator/component...</td>\n",
       "      <td>bad</td>\n",
       "    </tr>\n",
       "    <tr>\n",
       "      <th>12</th>\n",
       "      <td>officeon.ch.ma/office.js?google_ad_format=728x...</td>\n",
       "      <td>bad</td>\n",
       "    </tr>\n",
       "    <tr>\n",
       "      <th>13</th>\n",
       "      <td>sn-gzzx.com</td>\n",
       "      <td>bad</td>\n",
       "    </tr>\n",
       "    <tr>\n",
       "      <th>14</th>\n",
       "      <td>sunlux.net/company/about.html</td>\n",
       "      <td>bad</td>\n",
       "    </tr>\n",
       "    <tr>\n",
       "      <th>15</th>\n",
       "      <td>outporn.com</td>\n",
       "      <td>bad</td>\n",
       "    </tr>\n",
       "    <tr>\n",
       "      <th>16</th>\n",
       "      <td>timothycopus.aimoo.com</td>\n",
       "      <td>bad</td>\n",
       "    </tr>\n",
       "    <tr>\n",
       "      <th>17</th>\n",
       "      <td>xindalawyer.com</td>\n",
       "      <td>bad</td>\n",
       "    </tr>\n",
       "    <tr>\n",
       "      <th>18</th>\n",
       "      <td>freeserials.spb.ru/key/68703.htm</td>\n",
       "      <td>bad</td>\n",
       "    </tr>\n",
       "    <tr>\n",
       "      <th>19</th>\n",
       "      <td>deletespyware-adware.com</td>\n",
       "      <td>bad</td>\n",
       "    </tr>\n",
       "    <tr>\n",
       "      <th>20</th>\n",
       "      <td>orbowlada.strefa.pl/text396.htm</td>\n",
       "      <td>bad</td>\n",
       "    </tr>\n",
       "    <tr>\n",
       "      <th>21</th>\n",
       "      <td>ruiyangcn.com</td>\n",
       "      <td>bad</td>\n",
       "    </tr>\n",
       "    <tr>\n",
       "      <th>22</th>\n",
       "      <td>zkic.com</td>\n",
       "      <td>bad</td>\n",
       "    </tr>\n",
       "    <tr>\n",
       "      <th>23</th>\n",
       "      <td>adserving.favorit-network.com/eas?camp=19320;c...</td>\n",
       "      <td>bad</td>\n",
       "    </tr>\n",
       "    <tr>\n",
       "      <th>24</th>\n",
       "      <td>cracks.vg/d1.php</td>\n",
       "      <td>bad</td>\n",
       "    </tr>\n",
       "    <tr>\n",
       "      <th>25</th>\n",
       "      <td>juicypussyclips.com</td>\n",
       "      <td>bad</td>\n",
       "    </tr>\n",
       "    <tr>\n",
       "      <th>26</th>\n",
       "      <td>nuptialimages.com</td>\n",
       "      <td>bad</td>\n",
       "    </tr>\n",
       "    <tr>\n",
       "      <th>27</th>\n",
       "      <td>andysgame.com</td>\n",
       "      <td>bad</td>\n",
       "    </tr>\n",
       "    <tr>\n",
       "      <th>28</th>\n",
       "      <td>bezproudoff.cz</td>\n",
       "      <td>bad</td>\n",
       "    </tr>\n",
       "    <tr>\n",
       "      <th>29</th>\n",
       "      <td>ceskarepublika.net</td>\n",
       "      <td>bad</td>\n",
       "    </tr>\n",
       "    <tr>\n",
       "      <th>...</th>\n",
       "      <td>...</td>\n",
       "      <td>...</td>\n",
       "    </tr>\n",
       "    <tr>\n",
       "      <th>453310</th>\n",
       "      <td>www.alfalima.it/transactions.php</td>\n",
       "      <td>bad</td>\n",
       "    </tr>\n",
       "    <tr>\n",
       "      <th>453311</th>\n",
       "      <td>rapiseebrains.com/?a=401336&amp;c=cpc&amp;s=050217</td>\n",
       "      <td>bad</td>\n",
       "    </tr>\n",
       "    <tr>\n",
       "      <th>453312</th>\n",
       "      <td>fuji-ncb.com.pk/js/fancybox/autolink/mailbox/m...</td>\n",
       "      <td>bad</td>\n",
       "    </tr>\n",
       "    <tr>\n",
       "      <th>453313</th>\n",
       "      <td>aadroid.net/sys.olk</td>\n",
       "      <td>bad</td>\n",
       "    </tr>\n",
       "    <tr>\n",
       "      <th>453314</th>\n",
       "      <td>mit.fileserver4390.org/file/nost.bgt</td>\n",
       "      <td>bad</td>\n",
       "    </tr>\n",
       "    <tr>\n",
       "      <th>453315</th>\n",
       "      <td>cureeczemafast.org/wp-conf.gbn</td>\n",
       "      <td>bad</td>\n",
       "    </tr>\n",
       "    <tr>\n",
       "      <th>453316</th>\n",
       "      <td>glutenfreeworks.com/lftAd.vfd</td>\n",
       "      <td>bad</td>\n",
       "    </tr>\n",
       "    <tr>\n",
       "      <th>453317</th>\n",
       "      <td>dataplues.com/quincy/pony/gate.php</td>\n",
       "      <td>bad</td>\n",
       "    </tr>\n",
       "    <tr>\n",
       "      <th>453318</th>\n",
       "      <td>60.250.76.52/</td>\n",
       "      <td>bad</td>\n",
       "    </tr>\n",
       "    <tr>\n",
       "      <th>453319</th>\n",
       "      <td>f4321y.com/</td>\n",
       "      <td>bad</td>\n",
       "    </tr>\n",
       "    <tr>\n",
       "      <th>453320</th>\n",
       "      <td>mykings.pw/</td>\n",
       "      <td>bad</td>\n",
       "    </tr>\n",
       "    <tr>\n",
       "      <th>453321</th>\n",
       "      <td>activatemywebsetup.com/img/sunday/Excel/PO/pag...</td>\n",
       "      <td>bad</td>\n",
       "    </tr>\n",
       "    <tr>\n",
       "      <th>453322</th>\n",
       "      <td>www.iemailpremium.com/read.php?f=1.gif</td>\n",
       "      <td>bad</td>\n",
       "    </tr>\n",
       "    <tr>\n",
       "      <th>453323</th>\n",
       "      <td>highpowerresources.com</td>\n",
       "      <td>bad</td>\n",
       "    </tr>\n",
       "    <tr>\n",
       "      <th>453324</th>\n",
       "      <td>new.ASKGRANNYSHOP.COM/?ct=Vivaldi&amp;amp;q=w33QMv...</td>\n",
       "      <td>bad</td>\n",
       "    </tr>\n",
       "    <tr>\n",
       "      <th>453325</th>\n",
       "      <td>find.burnsmarketingandresearch.com/?br_fl=6042...</td>\n",
       "      <td>bad</td>\n",
       "    </tr>\n",
       "    <tr>\n",
       "      <th>453326</th>\n",
       "      <td>gfd.DATINGUPPERCLASS.COM/?biw=Microsoft_Edge.7...</td>\n",
       "      <td>bad</td>\n",
       "    </tr>\n",
       "    <tr>\n",
       "      <th>453327</th>\n",
       "      <td>rty.freebiesfortheover60s.com/?biw=Amaya.102tw...</td>\n",
       "      <td>bad</td>\n",
       "    </tr>\n",
       "    <tr>\n",
       "      <th>453328</th>\n",
       "      <td>defibel.org/wp-includes/images/index.html</td>\n",
       "      <td>bad</td>\n",
       "    </tr>\n",
       "    <tr>\n",
       "      <th>453329</th>\n",
       "      <td>stefanocardone.com/wp-includes/SimplePie/HTTP/...</td>\n",
       "      <td>bad</td>\n",
       "    </tr>\n",
       "    <tr>\n",
       "      <th>453330</th>\n",
       "      <td>defibel.org/wp-includes/images/index.html</td>\n",
       "      <td>bad</td>\n",
       "    </tr>\n",
       "    <tr>\n",
       "      <th>453331</th>\n",
       "      <td>shapingsoftware.com/2009/02/09/architectural-s...</td>\n",
       "      <td>bad</td>\n",
       "    </tr>\n",
       "    <tr>\n",
       "      <th>453332</th>\n",
       "      <td>free.ulohapp.info/?br_fl=2872&amp;amp;tuif=5539&amp;am...</td>\n",
       "      <td>bad</td>\n",
       "    </tr>\n",
       "    <tr>\n",
       "      <th>453333</th>\n",
       "      <td>free.ulohapp.info/?oq=CEh3h_PskJLFZaQWwjEKBegU...</td>\n",
       "      <td>bad</td>\n",
       "    </tr>\n",
       "    <tr>\n",
       "      <th>453334</th>\n",
       "      <td>mol.com-ho.me/cv_itworx.doc</td>\n",
       "      <td>bad</td>\n",
       "    </tr>\n",
       "    <tr>\n",
       "      <th>453335</th>\n",
       "      <td>23.227.196.215/</td>\n",
       "      <td>bad</td>\n",
       "    </tr>\n",
       "    <tr>\n",
       "      <th>453336</th>\n",
       "      <td>apple-checker.org/</td>\n",
       "      <td>bad</td>\n",
       "    </tr>\n",
       "    <tr>\n",
       "      <th>453337</th>\n",
       "      <td>apple-iclods.org/</td>\n",
       "      <td>bad</td>\n",
       "    </tr>\n",
       "    <tr>\n",
       "      <th>453338</th>\n",
       "      <td>apple-uptoday.org/</td>\n",
       "      <td>bad</td>\n",
       "    </tr>\n",
       "    <tr>\n",
       "      <th>453339</th>\n",
       "      <td>apple-search.info</td>\n",
       "      <td>bad</td>\n",
       "    </tr>\n",
       "  </tbody>\n",
       "</table>\n",
       "<p>453340 rows × 2 columns</p>\n",
       "</div>"
      ],
      "text/plain": [
       "                                                      url label\n",
       "0                                  diaryofagameaddict.com   bad\n",
       "1                                        espdesign.com.au   bad\n",
       "2                                      iamagameaddict.com   bad\n",
       "3                                           kalantzis.net   bad\n",
       "4                                   slightlyoffcenter.net   bad\n",
       "5                                        toddscarwash.com   bad\n",
       "6                                          tubemoviez.com   bad\n",
       "7                                                  ipl.hk   bad\n",
       "8             crackspider.us/toolbar/install.php?pack=exe   bad\n",
       "9                                         pos-kupang.com/   bad\n",
       "10                                             rupor.info   bad\n",
       "11      svision-online.de/mgfi/administrator/component...   bad\n",
       "12      officeon.ch.ma/office.js?google_ad_format=728x...   bad\n",
       "13                                            sn-gzzx.com   bad\n",
       "14                          sunlux.net/company/about.html   bad\n",
       "15                                            outporn.com   bad\n",
       "16                                 timothycopus.aimoo.com   bad\n",
       "17                                        xindalawyer.com   bad\n",
       "18                       freeserials.spb.ru/key/68703.htm   bad\n",
       "19                               deletespyware-adware.com   bad\n",
       "20                        orbowlada.strefa.pl/text396.htm   bad\n",
       "21                                          ruiyangcn.com   bad\n",
       "22                                               zkic.com   bad\n",
       "23      adserving.favorit-network.com/eas?camp=19320;c...   bad\n",
       "24                                       cracks.vg/d1.php   bad\n",
       "25                                    juicypussyclips.com   bad\n",
       "26                                      nuptialimages.com   bad\n",
       "27                                          andysgame.com   bad\n",
       "28                                         bezproudoff.cz   bad\n",
       "29                                     ceskarepublika.net   bad\n",
       "...                                                   ...   ...\n",
       "453310                   www.alfalima.it/transactions.php   bad\n",
       "453311         rapiseebrains.com/?a=401336&c=cpc&s=050217   bad\n",
       "453312  fuji-ncb.com.pk/js/fancybox/autolink/mailbox/m...   bad\n",
       "453313                                aadroid.net/sys.olk   bad\n",
       "453314               mit.fileserver4390.org/file/nost.bgt   bad\n",
       "453315                     cureeczemafast.org/wp-conf.gbn   bad\n",
       "453316                      glutenfreeworks.com/lftAd.vfd   bad\n",
       "453317                 dataplues.com/quincy/pony/gate.php   bad\n",
       "453318                                      60.250.76.52/   bad\n",
       "453319                                        f4321y.com/   bad\n",
       "453320                                        mykings.pw/   bad\n",
       "453321  activatemywebsetup.com/img/sunday/Excel/PO/pag...   bad\n",
       "453322             www.iemailpremium.com/read.php?f=1.gif   bad\n",
       "453323                             highpowerresources.com   bad\n",
       "453324  new.ASKGRANNYSHOP.COM/?ct=Vivaldi&amp;q=w33QMv...   bad\n",
       "453325  find.burnsmarketingandresearch.com/?br_fl=6042...   bad\n",
       "453326  gfd.DATINGUPPERCLASS.COM/?biw=Microsoft_Edge.7...   bad\n",
       "453327  rty.freebiesfortheover60s.com/?biw=Amaya.102tw...   bad\n",
       "453328          defibel.org/wp-includes/images/index.html   bad\n",
       "453329  stefanocardone.com/wp-includes/SimplePie/HTTP/...   bad\n",
       "453330          defibel.org/wp-includes/images/index.html   bad\n",
       "453331  shapingsoftware.com/2009/02/09/architectural-s...   bad\n",
       "453332  free.ulohapp.info/?br_fl=2872&amp;tuif=5539&am...   bad\n",
       "453333  free.ulohapp.info/?oq=CEh3h_PskJLFZaQWwjEKBegU...   bad\n",
       "453334                        mol.com-ho.me/cv_itworx.doc   bad\n",
       "453335                                    23.227.196.215/   bad\n",
       "453336                                 apple-checker.org/   bad\n",
       "453337                                  apple-iclods.org/   bad\n",
       "453338                                 apple-uptoday.org/   bad\n",
       "453339                                  apple-search.info   bad\n",
       "\n",
       "[453340 rows x 2 columns]"
      ]
     },
     "execution_count": 3,
     "metadata": {},
     "output_type": "execute_result"
    }
   ],
   "source": [
    "df"
   ]
  },
  {
   "cell_type": "markdown",
   "metadata": {},
   "source": [
    "## Deep Learning Deep Shit"
   ]
  },
  {
   "cell_type": "code",
   "execution_count": 4,
   "metadata": {
    "ExecuteTime": {
     "end_time": "2018-11-11T07:45:34.340903Z",
     "start_time": "2018-11-11T07:45:32.699812Z"
    }
   },
   "outputs": [
    {
     "name": "stderr",
     "output_type": "stream",
     "text": [
      "Using TensorFlow backend.\n"
     ]
    }
   ],
   "source": [
    "from collections import Counter\n",
    "\n",
    "import keras\n",
    "import keras.backend as k\n",
    "import numpy as np\n",
    "import tensorflow as tf\n",
    "from keras.layers import (GRU, LSTM, BatchNormalization, Bidirectional, Dense,\n",
    "                          Dropout)\n",
    "from keras.models import Sequential\n",
    "from keras.preprocessing.sequence import pad_sequences\n",
    "from keras.preprocessing.text import Tokenizer\n",
    "from keras.utils import multi_gpu_model, to_categorical\n",
    "from sklearn.model_selection import train_test_split"
   ]
  },
  {
   "cell_type": "code",
   "execution_count": 5,
   "metadata": {
    "ExecuteTime": {
     "end_time": "2018-11-11T07:45:35.677460Z",
     "start_time": "2018-11-11T07:45:34.342341Z"
    }
   },
   "outputs": [],
   "source": [
    "# TensorFlow wizardry\n",
    "config = tf.ConfigProto()\n",
    " \n",
    "# Don't pre-allocate memory; allocate as-needed\n",
    "config.gpu_options.allow_growth = True\n",
    " \n",
    "# Create a session with the above options specified.\n",
    "k.tensorflow_backend.set_session(tf.Session(config=config))"
   ]
  },
  {
   "cell_type": "code",
   "execution_count": 6,
   "metadata": {
    "ExecuteTime": {
     "end_time": "2018-11-11T07:45:35.695362Z",
     "start_time": "2018-11-11T07:45:35.682099Z"
    },
    "scrolled": true
   },
   "outputs": [
    {
     "name": "stdout",
     "output_type": "stream",
     "text": [
      "[name: \"/device:CPU:0\"\n",
      "device_type: \"CPU\"\n",
      "memory_limit: 268435456\n",
      "locality {\n",
      "}\n",
      "incarnation: 11194761317480485990\n",
      ", name: \"/device:GPU:0\"\n",
      "device_type: \"GPU\"\n",
      "memory_limit: 11981596263\n",
      "locality {\n",
      "  bus_id: 1\n",
      "  links {\n",
      "    link {\n",
      "      device_id: 1\n",
      "      type: \"StreamExecutor\"\n",
      "      strength: 1\n",
      "    }\n",
      "  }\n",
      "}\n",
      "incarnation: 3489255174703289187\n",
      "physical_device_desc: \"device: 0, name: GeForce GTX TITAN X, pci bus id: 0000:02:00.0, compute capability: 5.2\"\n",
      ", name: \"/device:GPU:1\"\n",
      "device_type: \"GPU\"\n",
      "memory_limit: 10925244416\n",
      "locality {\n",
      "  bus_id: 1\n",
      "  links {\n",
      "    link {\n",
      "      type: \"StreamExecutor\"\n",
      "      strength: 1\n",
      "    }\n",
      "  }\n",
      "}\n",
      "incarnation: 4915728828979816005\n",
      "physical_device_desc: \"device: 1, name: GeForce GTX TITAN X, pci bus id: 0000:03:00.0, compute capability: 5.2\"\n",
      "]\n"
     ]
    }
   ],
   "source": [
    "from tensorflow.python.client import device_lib\n",
    "print(device_lib.list_local_devices())"
   ]
  },
  {
   "cell_type": "code",
   "execution_count": 7,
   "metadata": {
    "ExecuteTime": {
     "end_time": "2018-11-11T07:45:35.699280Z",
     "start_time": "2018-11-11T07:45:35.697265Z"
    }
   },
   "outputs": [],
   "source": [
    "BATCH_SIZE = 1024  # batch size for the network\n",
    "EPOCH_NUMBER = 1  # number of epochs to train\n",
    "THRESHOLD = 5  # symbols appearing fewer times will be replaced by a placeholder"
   ]
  },
  {
   "cell_type": "markdown",
   "metadata": {},
   "source": [
    "## Preparing Data"
   ]
  },
  {
   "cell_type": "code",
   "execution_count": 8,
   "metadata": {
    "ExecuteTime": {
     "end_time": "2018-11-11T07:45:37.394690Z",
     "start_time": "2018-11-11T07:45:35.700458Z"
    }
   },
   "outputs": [
    {
     "name": "stdout",
     "output_type": "stream",
     "text": [
      "Unique symbols: 179\n",
      "Uncommon symbols: 59\n"
     ]
    }
   ],
   "source": [
    "unique_symbols = Counter()\n",
    "\n",
    "for _, message in df['url'].iteritems():\n",
    "    unique_symbols.update(message)\n",
    "    \n",
    "print(\"Unique symbols:\", len(unique_symbols))\n",
    "\n",
    "\n",
    "# Find symbols that appear fewer times than the threshold:\n",
    "\n",
    "uncommon_symbols = list()\n",
    "\n",
    "for symbol, count in unique_symbols.items():\n",
    "    if count < THRESHOLD:\n",
    "        uncommon_symbols.append(symbol)\n",
    "\n",
    "print(\"Uncommon symbols:\", len(uncommon_symbols))"
   ]
  },
  {
   "cell_type": "code",
   "execution_count": 9,
   "metadata": {
    "ExecuteTime": {
     "end_time": "2018-11-11T07:45:38.098388Z",
     "start_time": "2018-11-11T07:45:37.396270Z"
    }
   },
   "outputs": [],
   "source": [
    "# Replace them with a placeholder:\n",
    "DUMMY = uncommon_symbols[0]\n",
    "tr_table = str.maketrans(\"\".join(uncommon_symbols), DUMMY * len(uncommon_symbols))\n",
    "\n",
    "df['url'] = df['url'].apply(lambda x: x.translate(tr_table))\n",
    "\n",
    "# We will need the number of unique symbols further down when we will decide on the dimensionality of inputs.\n",
    "num_unique_symbols = len(unique_symbols) - len(uncommon_symbols) + 1 "
   ]
  },
  {
   "cell_type": "code",
   "execution_count": 10,
   "metadata": {
    "ExecuteTime": {
     "end_time": "2018-11-11T07:45:42.780978Z",
     "start_time": "2018-11-11T07:45:38.099746Z"
    }
   },
   "outputs": [],
   "source": [
    "tokenizer = Tokenizer(char_level=True)\n",
    "tokenizer.fit_on_texts(df['url'])"
   ]
  },
  {
   "cell_type": "code",
   "execution_count": 11,
   "metadata": {
    "ExecuteTime": {
     "end_time": "2018-11-11T07:45:54.387735Z",
     "start_time": "2018-11-11T07:45:42.782496Z"
    }
   },
   "outputs": [],
   "source": [
    "mat = tokenizer.texts_to_sequences(df['url'])\n",
    "mat = pad_sequences(mat)"
   ]
  },
  {
   "cell_type": "code",
   "execution_count": 12,
   "metadata": {
    "ExecuteTime": {
     "end_time": "2018-11-11T07:45:54.415248Z",
     "start_time": "2018-11-11T07:45:54.389908Z"
    }
   },
   "outputs": [],
   "source": [
    "y = df['label']\n",
    "y = (y==\"bad\")"
   ]
  },
  {
   "cell_type": "code",
   "execution_count": 13,
   "metadata": {
    "ExecuteTime": {
     "end_time": "2018-11-11T07:45:55.875998Z",
     "start_time": "2018-11-11T07:45:54.421352Z"
    }
   },
   "outputs": [],
   "source": [
    "x_train, x_test, y_train, y_test = train_test_split(mat, y, stratify=y.values, test_size=0.10)"
   ]
  },
  {
   "cell_type": "code",
   "execution_count": 14,
   "metadata": {
    "ExecuteTime": {
     "end_time": "2018-11-11T07:45:55.882033Z",
     "start_time": "2018-11-11T07:45:55.877811Z"
    }
   },
   "outputs": [
    {
     "data": {
      "text/plain": [
       "((408006, 2307), (45334, 2307))"
      ]
     },
     "execution_count": 14,
     "metadata": {},
     "output_type": "execute_result"
    }
   ],
   "source": [
    "x_train.shape, x_test.shape"
   ]
  },
  {
   "cell_type": "markdown",
   "metadata": {},
   "source": [
    "## Defining Model"
   ]
  },
  {
   "cell_type": "code",
   "execution_count": null,
   "metadata": {
    "ExecuteTime": {
     "end_time": "2018-11-11T04:55:11.647728Z",
     "start_time": "2018-11-11T04:55:11.633807Z"
    }
   },
   "outputs": [],
   "source": [
    "class DataGenerator(keras.utils.Sequence):\n",
    "    'Generates data for Keras'\n",
    "    def __init__(self, data, labels, batch_size=32, dim=(32,32,32), n_channels=1, n_classes=10, shuffle=True):\n",
    "        'Initialization'\n",
    "        self.dim = dim\n",
    "        self.batch_size = batch_size\n",
    "        self.labels = labels\n",
    "        self.data = data\n",
    "        self.n_channels = n_channels\n",
    "        self.n_classes = n_classes\n",
    "        self.shuffle = shuffle\n",
    "        self.indexes = np.arange(data.shape[0])\n",
    "        self.on_epoch_end()\n",
    "\n",
    "    def __len__(self):\n",
    "        'Denotes the number of batches per epoch'\n",
    "        return int(np.floor(len(self.indexes) / self.batch_size))\n",
    "\n",
    "    def __getitem__(self, index):\n",
    "        'Generate one batch of data'\n",
    "        # Generate indexes of the batch\n",
    "        batch = self.data[index:index+self.batch_size]\n",
    "        batch = to_categorical(batch, num_classes=num_unique_symbols)\n",
    "        y_batch = self.labels.iloc[index:index+self.batch_size]\n",
    "        return batch, y_batch\n",
    "\n",
    "    def on_epoch_end(self):\n",
    "        'Updates indexes after each epoch'\n",
    "        if self.shuffle == True:\n",
    "            np.random.shuffle(self.indexes)"
   ]
  },
  {
   "cell_type": "code",
   "execution_count": 15,
   "metadata": {
    "ExecuteTime": {
     "end_time": "2018-11-11T07:45:55.891770Z",
     "start_time": "2018-11-11T07:45:55.883495Z"
    }
   },
   "outputs": [],
   "source": [
    "sequence_length = x_train.shape[1]"
   ]
  },
  {
   "cell_type": "code",
   "execution_count": 19,
   "metadata": {
    "ExecuteTime": {
     "end_time": "2018-11-11T07:47:28.503629Z",
     "start_time": "2018-11-11T07:47:28.037678Z"
    }
   },
   "outputs": [],
   "source": [
    "model = Sequential()\n",
    "model.add(LSTM(100, input_shape=(sequence_length, num_unique_symbols), activation=\"tanh\", return_sequences=True))\n",
    "model.add(BatchNormalization())\n",
    "model.add(Dropout(0.2))\n",
    "model.add(LSTM(50, input_shape=(sequence_length, num_unique_symbols), activation=\"tanh\"))\n",
    "model.add(Dropout(0.2))\n",
    "model.add(Dense(25, activation=\"tanh\"))\n",
    "model.add(Dropout(0.2))\n",
    "model.add(Dense(1, activation=\"sigmoid\"))"
   ]
  },
  {
   "cell_type": "code",
   "execution_count": 20,
   "metadata": {
    "ExecuteTime": {
     "end_time": "2018-11-11T07:47:28.539375Z",
     "start_time": "2018-11-11T07:47:28.505525Z"
    }
   },
   "outputs": [],
   "source": [
    "model.compile(optimizer=\"adam\", loss=\"binary_crossentropy\", metrics=['accuracy'])"
   ]
  },
  {
   "cell_type": "code",
   "execution_count": null,
   "metadata": {
    "ExecuteTime": {
     "end_time": "2018-11-11T06:59:27.918021Z",
     "start_time": "2018-11-11T06:59:27.915252Z"
    }
   },
   "outputs": [],
   "source": [
    "EPOCH_NUMBER = 20"
   ]
  },
  {
   "cell_type": "code",
   "execution_count": null,
   "metadata": {
    "ExecuteTime": {
     "end_time": "2018-11-11T04:45:46.114314Z",
     "start_time": "2018-11-11T04:45:44.951305Z"
    }
   },
   "outputs": [],
   "source": [
    "parallel_model = multi_gpu_model(model, gpus=2)\n",
    "parallel_model.compile(optimizer=\"adam\", loss=\"binary_crossentropy\", metrics=['accuracy'])"
   ]
  },
  {
   "cell_type": "code",
   "execution_count": null,
   "metadata": {
    "ExecuteTime": {
     "end_time": "2018-11-11T04:55:35.481755Z",
     "start_time": "2018-11-11T04:55:35.463471Z"
    }
   },
   "outputs": [],
   "source": [
    "dg = DataGenerator(x_train, y_train, batch_size=128)"
   ]
  },
  {
   "cell_type": "code",
   "execution_count": null,
   "metadata": {
    "ExecuteTime": {
     "end_time": "2018-11-11T05:03:09.665052Z",
     "start_time": "2018-11-11T05:02:02.872233Z"
    }
   },
   "outputs": [],
   "source": [
    "model.fit_generator(dg, epochs=10, use_multiprocessing=True, workers=12)"
   ]
  },
  {
   "cell_type": "code",
   "execution_count": null,
   "metadata": {
    "ExecuteTime": {
     "end_time": "2018-11-11T04:47:45.085584Z",
     "start_time": "2018-11-11T04:45:46.841244Z"
    }
   },
   "outputs": [],
   "source": [
    "parallel_model.fit_generator(dg, epochs=10, use_multiprocessing=True, workers=6)"
   ]
  },
  {
   "cell_type": "code",
   "execution_count": null,
   "metadata": {
    "ExecuteTime": {
     "end_time": "2018-11-11T04:22:04.422681Z",
     "start_time": "2018-11-11T04:22:04.413742Z"
    }
   },
   "outputs": [],
   "source": [
    "x_train.shape"
   ]
  },
  {
   "cell_type": "code",
   "execution_count": 37,
   "metadata": {
    "ExecuteTime": {
     "end_time": "2018-11-11T18:23:11.154858Z",
     "start_time": "2018-11-11T18:23:10.106282Z"
    }
   },
   "outputs": [],
   "source": [
    "model.save(\"best_model.h5\")"
   ]
  },
  {
   "cell_type": "code",
   "execution_count": 38,
   "metadata": {
    "ExecuteTime": {
     "end_time": "2018-11-11T18:23:49.535678Z",
     "start_time": "2018-11-11T18:23:46.781613Z"
    }
   },
   "outputs": [
    {
     "data": {
      "text/plain": [
       "279"
      ]
     },
     "execution_count": 38,
     "metadata": {},
     "output_type": "execute_result"
    }
   ],
   "source": [
    "import gc\n",
    "gc.collect()"
   ]
  },
  {
   "cell_type": "code",
   "execution_count": null,
   "metadata": {
    "ExecuteTime": {
     "start_time": "2018-11-11T18:23:54.691Z"
    }
   },
   "outputs": [
    {
     "name": "stdout",
     "output_type": "stream",
     "text": [
      "Epoch 0\n",
      "Train on 9216 samples, validate on 1024 samples\n",
      "Epoch 1/1\n",
      "9216/9216 [==============================] - 234s 25ms/step - loss: 0.0978 - acc: 0.9672 - val_loss: 2.0927 - val_acc: 0.3984\n",
      "Train on 9216 samples, validate on 1024 samples\n",
      "Epoch 1/1\n",
      "9216/9216 [==============================] - 229s 25ms/step - loss: 0.1049 - acc: 0.9641 - val_loss: 0.1054 - val_acc: 0.9629\n",
      "Train on 9216 samples, validate on 1024 samples\n",
      "Epoch 1/1\n",
      "9216/9216 [==============================] - 226s 25ms/step - loss: 0.0899 - acc: 0.9684 - val_loss: 0.1049 - val_acc: 0.9668\n",
      "Train on 9216 samples, validate on 1024 samples\n",
      "Epoch 1/1\n",
      "9216/9216 [==============================] - 226s 24ms/step - loss: 0.0948 - acc: 0.9664 - val_loss: 0.0805 - val_acc: 0.9707\n",
      "Train on 9216 samples, validate on 1024 samples\n",
      "Epoch 1/1\n",
      "9216/9216 [==============================] - 232s 25ms/step - loss: 0.0972 - acc: 0.9654 - val_loss: 2.4704 - val_acc: 0.3525\n",
      "Train on 9216 samples, validate on 1024 samples\n",
      "Epoch 1/1\n",
      " 768/9216 [=>............................] - ETA: 3:21 - loss: 0.1102 - acc: 0.9648"
     ]
    }
   ],
   "source": [
    "BATCH_SIZE = 10240\n",
    "for epoch in range(EPOCH_NUMBER):\n",
    "    print(\"Epoch\", epoch)\n",
    "    for i in range(340992, len(x_train), BATCH_SIZE):\n",
    "        batch = x_train[i:i+BATCH_SIZE]\n",
    "        batch = to_categorical(batch, num_classes=num_unique_symbols)\n",
    "        y_batch = y_train.iloc[i:i+BATCH_SIZE]\n",
    "        model.fit(batch, y_batch, batch_size=256, validation_split=0.1)"
   ]
  },
  {
   "cell_type": "code",
   "execution_count": 34,
   "metadata": {
    "ExecuteTime": {
     "end_time": "2018-11-11T18:21:13.553625Z",
     "start_time": "2018-11-11T18:21:11.097648Z"
    }
   },
   "outputs": [],
   "source": [
    "x_test_cate = to_categorical(x_test[5000:10000], num_classes=num_unique_symbols)"
   ]
  },
  {
   "cell_type": "code",
   "execution_count": 35,
   "metadata": {
    "ExecuteTime": {
     "end_time": "2018-11-11T18:22:56.512527Z",
     "start_time": "2018-11-11T18:21:23.514581Z"
    }
   },
   "outputs": [
    {
     "name": "stdout",
     "output_type": "stream",
     "text": [
      "5000/5000 [==============================] - 93s 19ms/step\n"
     ]
    },
    {
     "data": {
      "text/plain": [
       "[0.09402963070869445, 0.968]"
      ]
     },
     "execution_count": 35,
     "metadata": {},
     "output_type": "execute_result"
    }
   ],
   "source": [
    "model.evaluate(x_test_cate, y_test[5000:10000], batch_size=128)"
   ]
  },
  {
   "cell_type": "code",
   "execution_count": null,
   "metadata": {
    "ExecuteTime": {
     "end_time": "2018-11-11T04:01:36.230782Z",
     "start_time": "2018-11-11T04:01:36.211864Z"
    }
   },
   "outputs": [],
   "source": [
    "model.fit(x_train, y_train, validation_split=0.1, batch_size=32)"
   ]
  }
 ],
 "metadata": {
  "kernelspec": {
   "display_name": "Python 3",
   "language": "python",
   "name": "python3"
  },
  "language_info": {
   "codemirror_mode": {
    "name": "ipython",
    "version": 3
   },
   "file_extension": ".py",
   "mimetype": "text/x-python",
   "name": "python",
   "nbconvert_exporter": "python",
   "pygments_lexer": "ipython3",
   "version": "3.5.2"
  },
  "toc": {
   "base_numbering": 1,
   "nav_menu": {},
   "number_sections": true,
   "sideBar": true,
   "skip_h1_title": false,
   "title_cell": "Table of Contents",
   "title_sidebar": "Contents",
   "toc_cell": false,
   "toc_position": {},
   "toc_section_display": true,
   "toc_window_display": false
  }
 },
 "nbformat": 4,
 "nbformat_minor": 2
}
